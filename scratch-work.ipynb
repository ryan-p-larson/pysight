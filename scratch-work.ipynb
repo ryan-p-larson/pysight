{
 "cells": [
  {
   "cell_type": "code",
   "execution_count": 1,
   "metadata": {},
   "outputs": [],
   "source": [
    "import cv2 as cv\n",
    "import numpy as np\n",
    "\n",
    "from matplotlib.pyplot import imshow\n",
    "import matplotlib.pyplot as plt\n",
    "%matplotlib inline\n",
    "\n",
    "import pysight"
   ]
  },
  {
   "cell_type": "code",
   "execution_count": 2,
   "metadata": {
    "collapsed": true
   },
   "outputs": [],
   "source": [
    "# Trying to see if multiple displays will plot\n",
    "from IPython.core.interactiveshell import InteractiveShell\n",
    "InteractiveShell.ast_node_interactivity = \"all\""
   ]
  },
  {
   "cell_type": "markdown",
   "metadata": {},
   "source": [
    "###### Helpers"
   ]
  },
  {
   "cell_type": "code",
   "execution_count": 3,
   "metadata": {
    "collapsed": true
   },
   "outputs": [],
   "source": [
    "def cv2mpl(frame, color=False):\n",
    "    \"\"\"Helper function to convert a BGR img to RGB and display using Matplotlib.\n",
    "    color (cv.COLOR_)\n",
    "        cv.COLOR_BGR2RGB for normal webcam photos\n",
    "        cv.COLOR_BGR2GRAY for normal to grey\n",
    "        cv.COLOR_GRAY2RGB for grey to image\n",
    "    \"\"\"\n",
    "    final_frame = cv.cvtColor(frame, color) if color else frame\n",
    "    fig = imshow(final_frame)\n",
    "    return fig\n",
    "\n",
    "    \n",
    "def crop_photo(frame, dim):\n",
    "    \"\"\"Helper function to crop a photo from given dimensions.\"\"\"\n",
    "    x,y,w,h = dim\n",
    "    return frame[y:y+h, x:x+w]\n",
    "\n",
    "\n",
    "def get_left_eye(eyes):\n",
    "    \"\"\"Helper function to get the left eye.\n",
    "    Eyes: n * [x, y, w, h] for each eye detected in photo.\"\"\"\n",
    "    left_idx, left_val = -1, float('inf')\n",
    "    \n",
    "    for idx, val in enumerate(eyes):\n",
    "        if val[0] < left_val:\n",
    "            left_val = val[0]\n",
    "            left_idx = idx\n",
    "    \n",
    "    return eyes[left_idx]\n",
    "\n",
    "\n",
    "def draw_circle(frame, x, y, radius):\n",
    "    img_copy = frame.copy()\n",
    "    cv.circle(img_copy, (int(x), int(y)), radius, (255,255,255))\n",
    "    return img_copy"
   ]
  },
  {
   "cell_type": "markdown",
   "metadata": {
    "collapsed": true
   },
   "source": [
    "---"
   ]
  },
  {
   "cell_type": "markdown",
   "metadata": {},
   "source": [
    "###### Classifiers"
   ]
  },
  {
   "cell_type": "code",
   "execution_count": 4,
   "metadata": {},
   "outputs": [],
   "source": [
    "face_clf = cv.CascadeClassifier('pysight/models/haarcascade_frontalface_alt.xml')\n",
    "eyes_clf = cv.CascadeClassifier('pysight/models/haarcascade_eye.xml')"
   ]
  },
  {
   "cell_type": "markdown",
   "metadata": {},
   "source": [
    "##### Preprocessing"
   ]
  },
  {
   "cell_type": "code",
   "execution_count": 5,
   "metadata": {},
   "outputs": [
    {
     "name": "stdout",
     "output_type": "stream",
     "text": [
      "eye-double.jpg\r\n",
      "eye-single.jpg\r\n",
      "webcam-bad-eyes.jpg\r\n",
      "webcam-bad-face.jpg\r\n",
      "webcam-multiple.jpg\r\n",
      "webcam-single-00.jpg\r\n",
      "webcam-single-01.png\r\n"
     ]
    }
   ],
   "source": [
    "%ls -1 tests/test_imgs/"
   ]
  },
  {
   "cell_type": "code",
   "execution_count": 6,
   "metadata": {},
   "outputs": [
    {
     "name": "stdout",
     "output_type": "stream",
     "text": [
      "orig dim:\t(378, 669, 3)\n",
      "proc scale dim:\t(189, 334)\n",
      "proc NO scale dim:\t(378, 669)\n"
     ]
    }
   ],
   "source": [
    "test_img = cv.imread('tests/test_imgs/webcam-single-01.png') #00.jpg\n",
    "\n",
    "print (\"orig dim:\\t{}\".format(test_img.shape))\n",
    "\n",
    "test_img_proc_scale = pysight.Camera().process(test_img, 2)\n",
    "test_img_proc_nscale = pysight.Camera().process(test_img, 1)\n",
    "\n",
    "print (\"proc scale dim:\\t{}\".format(test_img_proc_scale.shape))\n",
    "print (\"proc NO scale dim:\\t{}\".format(test_img_proc_nscale.shape))\n",
    "\n",
    "\n",
    "# Regular image\n",
    "#cv2mpl(test_img, cv.COLOR_BGR2RGB) \n",
    "\n",
    "# Greyscale image\n",
    "#cv2mpl(test_img_proc_scale, cv.COLOR_GRAY2RGB)"
   ]
  },
  {
   "cell_type": "markdown",
   "metadata": {},
   "source": [
    "Test our face classifier"
   ]
  },
  {
   "cell_type": "code",
   "execution_count": 7,
   "metadata": {},
   "outputs": [
    {
     "name": "stdout",
     "output_type": "stream",
     "text": [
      "[[289  42 206 206]\n",
      " [ 82 136  63  63]]\n"
     ]
    },
    {
     "data": {
      "text/plain": [
       "<matplotlib.image.AxesImage at 0x7fca4a49b550>"
      ]
     },
     "execution_count": 7,
     "metadata": {},
     "output_type": "execute_result"
    },
    {
     "data": {
      "image/png": "[encoded data removed]",
      "text/plain": [
       "<matplotlib.figure.Figure at 0x7fca4bd4f2b0>"
      ]
     },
     "metadata": {},
     "output_type": "display_data"
    }
   ],
   "source": [
    "faces = face_clf.detectMultiScale(test_img_proc_nscale, scaleFactor=1.03, minNeighbors=5, flags=0, minSize=(30, 30))\n",
    "print (faces)\n",
    "\n",
    "test_face = crop_photo(test_img_proc_nscale, faces[0])\n",
    "cv2mpl(test_face, cv.COLOR_GRAY2RGB)"
   ]
  },
  {
   "cell_type": "markdown",
   "metadata": {},
   "source": [
    "Eyes Classifier"
   ]
  },
  {
   "cell_type": "code",
   "execution_count": 8,
   "metadata": {},
   "outputs": [
    {
     "name": "stdout",
     "output_type": "stream",
     "text": [
      "[[ 35  52  52  52]\n",
      " [117  59  50  50]]\n"
     ]
    }
   ],
   "source": [
    "eyes = eyes_clf.detectMultiScale(test_face, 1.1, 2, 0, (30, 30))\n",
    "print (eyes)\n",
    "\n",
    "left = get_left_eye(eyes)\n",
    "l_eye = crop_photo(test_face, left)\n",
    "r_eye = crop_photo(test_face, eyes[1])\n",
    "\n",
    "#cv2mpl(crop_photo(test_face, eyes[1]),  cv.COLOR_GRAY2RGB)"
   ]
  },
  {
   "cell_type": "code",
   "execution_count": 9,
   "metadata": {},
   "outputs": [
    {
     "data": {
      "text/plain": [
       "<matplotlib.image.AxesImage at 0x7fca48c2ec88>"
      ]
     },
     "execution_count": 9,
     "metadata": {},
     "output_type": "execute_result"
    },
    {
     "data": {
      "image/png": "[encoded data removed]",
      "text/plain": [
       "<matplotlib.figure.Figure at 0x7fca4bd3a358>"
      ]
     },
     "metadata": {},
     "output_type": "display_data"
    }
   ],
   "source": [
    "cv2mpl(l_eye, cv.COLOR_GRAY2RGB)"
   ]
  },
  {
   "cell_type": "code",
   "execution_count": 10,
   "metadata": {},
   "outputs": [
    {
     "data": {
      "text/plain": [
       "<matplotlib.image.AxesImage at 0x7fca48b90e10>"
      ]
     },
     "execution_count": 10,
     "metadata": {},
     "output_type": "execute_result"
    },
    {
     "data": {
      "image/png": "[encoded data removed]",
      "text/plain": [
       "<matplotlib.figure.Figure at 0x7fca48c45a58>"
      ]
     },
     "metadata": {},
     "output_type": "display_data"
    }
   ],
   "source": [
    "cv2mpl(r_eye, cv.COLOR_GRAY2RGB)"
   ]
  },
  {
   "cell_type": "code",
   "execution_count": 11,
   "metadata": {
    "collapsed": true
   },
   "outputs": [],
   "source": [
    "pt = pysight.PupilTools()"
   ]
  },
  {
   "cell_type": "code",
   "execution_count": 17,
   "metadata": {},
   "outputs": [
    {
     "name": "stdout",
     "output_type": "stream",
     "text": [
      "(29, 26)\n"
     ]
    },
    {
     "data": {
      "text/plain": [
       "<matplotlib.image.AxesImage at 0x7fca48ab46a0>"
      ]
     },
     "execution_count": 17,
     "metadata": {},
     "output_type": "execute_result"
    },
    {
     "data": {
      "image/png": "[encoded data removed]",
      "text/plain": [
       "<matplotlib.figure.Figure at 0x7fca48aee710>"
      ]
     },
     "metadata": {},
     "output_type": "display_data"
    }
   ],
   "source": [
    "l_center = find_pupil_noscale(l_eye)\n",
    "l_viz = draw_circle(l_eye, l_center[0], l_center[1], 3)\n",
    "\n",
    "print (l_center)\n",
    "cv2mpl(l_viz, cv.COLOR_GRAY2RGB)"
   ]
  },
  {
   "cell_type": "code",
   "execution_count": 16,
   "metadata": {},
   "outputs": [
    {
     "name": "stdout",
     "output_type": "stream",
     "text": [
      "(27, 27)\n"
     ]
    },
    {
     "data": {
      "text/plain": [
       "<matplotlib.image.AxesImage at 0x7fca48add5f8>"
      ]
     },
     "execution_count": 16,
     "metadata": {},
     "output_type": "execute_result"
    },
    {
     "data": {
      "image/png": "[encoded data removed]",
      "text/plain": [
       "<matplotlib.figure.Figure at 0x7fca48b65240>"
      ]
     },
     "metadata": {},
     "output_type": "display_data"
    }
   ],
   "source": [
    "r_center = find_pupil_noscale(r_eye)\n",
    "r_viz = draw_circle(r_eye, r_center[0], r_center[1], 3)\n",
    "\n",
    "print (r_center)\n",
    "cv2mpl(r_viz, cv.COLOR_GRAY2RGB)"
   ]
  },
  {
   "cell_type": "markdown",
   "metadata": {},
   "source": [
    "---\n",
    "\n",
    "#### PyLike"
   ]
  },
  {
   "cell_type": "code",
   "execution_count": null,
   "metadata": {
    "collapsed": true
   },
   "outputs": [],
   "source": [
    "import math\n",
    "from scipy.misc import toimage\n",
    "import time\n",
    "from queue import *\n",
    "\n",
    "# test a possible center (x,y) are coors of possible\n",
    "# center and gx and gy are the x and y components\n",
    "# of the gradient of some other point x.\n",
    "K_WEIGHT_DIVISOR = 1.0\n",
    "K_FAST_WIDTH = 50\n",
    "K_GRADIENT_THRESHOLD = 50.0\n",
    "K_WEIGHT_BLUR_SIZE = 5\n",
    "K_THRESHOLD_VALUE = 0.60\n",
    "K_ENABLE_WEIGHT = True\n",
    "K_POST_PROCESSING = True\n",
    "\n",
    "# Helpers\n",
    "def unscale_point(p, orig):\n",
    "    px, py = p\n",
    "    height, width = orig.shape\n",
    "    ratio = K_FAST_WIDTH/width\n",
    "    x = int(round(px / ratio))\n",
    "    y = int(round(py / ratio))\n",
    "    return (x,y)\n",
    "\n",
    "\n",
    "def scale_to_fast_size(src):\n",
    "    rows, cols = src.shape\n",
    "    return cv.resize(src, (K_FAST_WIDTH, int((K_FAST_WIDTH / cols) * rows)))\n",
    "\n",
    "\n",
    "def test_possible_centers_formula(x, y, weight, gx, gy, arr):\n",
    "    rows, cols = np.shape(arr)\n",
    "    for cy in range(rows):\n",
    "        for cx in range(cols):\n",
    "            if x == cx and y == cy:\n",
    "                continue\n",
    "            dx = x - cx\n",
    "            dy = y - cy\n",
    "\n",
    "            magnitude = math.sqrt((dx * dx) + (dy * dy))\n",
    "            dx = dx / magnitude\n",
    "            dy = dy / magnitude\n",
    "            dot_product = dx * gx + dy * gy\n",
    "            dot_product = max(0.0, dot_product)\n",
    "            if K_ENABLE_WEIGHT == True:\n",
    "                arr[cy][cx] += dot_product * dot_product * (weight[cy][cx]/K_WEIGHT_DIVISOR)\n",
    "            else:\n",
    "                arr[cy][cx] += dot_product * dot_product\n",
    "    return arr\n",
    "\n",
    "\n",
    "def matrix_magnitude(mat_x, mat_y):\n",
    "    rows, cols = np.shape(mat_x)\n",
    "    res_arr = np.zeros((rows, cols))\n",
    "    for y in range(rows):\n",
    "        for x in range(cols):\n",
    "            gX = mat_x[y][x]\n",
    "            gY = mat_y[y][x]\n",
    "            magnitude = math.sqrt((gX * gX) + (gY * gY))\n",
    "            res_arr[y][x] = magnitude\n",
    "    return res_arr\n",
    "\n",
    "\n",
    "def compute_dynamic_threshold(mags_mat, std_dev_factor):\n",
    "    mean_magn_grad, std_magn_grad = cv.meanStdDev(mags_mat)\n",
    "    rows, cols = np.shape(mags_mat)\n",
    "    stddev = std_magn_grad[0] / math.sqrt(rows * cols)\n",
    "    return std_dev_factor * stddev + mean_magn_grad[0]\n",
    "\n",
    "\n",
    "def flood_should_push_point(dir, mat):\n",
    "    px, py = dir\n",
    "    rows, cols = np.shape(mat)\n",
    "    if px >= 0 and px < cols and py >= 0 and py < rows:\n",
    "        return True\n",
    "    else:\n",
    "        return False\n",
    "\n",
    "\n",
    "def flood_kill_edges(mat):\n",
    "    rows, cols = np.shape(mat)\n",
    "    cv.rectangle(mat, (0,0), (cols, rows), 255)\n",
    "    mask = np.ones((rows, cols), dtype=np.uint8)\n",
    "    mask = mask * 255\n",
    "    to_do = Queue()\n",
    "    to_do.put((0,0))\n",
    "    while to_do.qsize() > 0:\n",
    "        px,py = to_do.get()\n",
    "        if mat[py][px] == 0:\n",
    "            continue\n",
    "        right = (px + 1, py)\n",
    "        if flood_should_push_point(right, mat):\n",
    "            to_do.put(right)\n",
    "        left = (px - 1, py)\n",
    "        if flood_should_push_point(left, mat):\n",
    "            to_do.put(left)\n",
    "        down = (px, py + 1)\n",
    "        if flood_should_push_point(down, mat):\n",
    "            to_do.put(down)\n",
    "        top = (px, py - 1)\n",
    "        if flood_should_push_point(top, mat):\n",
    "            to_do.put(top)\n",
    "        mat[py][px] = 0.0\n",
    "        mask[py][px] = 0\n",
    "    return mask\n",
    "\n",
    "\n",
    "def compute_mat_x_gradient(mat): \n",
    "    rows, cols = mat.shape\n",
    "    out = np.zeros((rows, cols), dtype='float64')\n",
    "    mat = mat.astype(float)\n",
    "    for y in range(rows):\n",
    "        out[y][0] = mat[y][1] - mat[y][1]\n",
    "        for x in range(cols - 1):\n",
    "            out[y][x] = (mat[y][x+1] - mat[y][x-1])/2.0\n",
    "        out[y][cols - 1] = (mat[y][cols - 1] - mat[y][cols - 2])\n",
    "    return out\n",
    "\n",
    "\n",
    "\n",
    "def find_eye_center(img):\n",
    "    # get row and column lengths\n",
    "    rows, cols = np.asarray(img).shape\n",
    "\n",
    "    # scale down eye image to manageable size\n",
    "    resized = scale_to_fast_size(img)\n",
    "    resized_arr = np.asarray(resized)\n",
    "    res_rows, res_cols = np.shape(resized_arr)\n",
    "\n",
    "    # compute gradients for x and y components of each point\n",
    "    grad_arr_x = compute_mat_x_gradient(resized_arr)\n",
    "    grad_arr_y = np.transpose(compute_mat_x_gradient(np.transpose(resized_arr)))\n",
    "\n",
    "    # create a matrix composed of the magnitudes of the x and y gradients\n",
    "    mags_mat = matrix_magnitude(grad_arr_x, grad_arr_y)\n",
    "\n",
    "    # find a threshold value to get rid gradients that are below gradient threshold\n",
    "    gradient_threshold = compute_dynamic_threshold(mags_mat, K_GRADIENT_THRESHOLD)\n",
    "    # and now set those gradients to 0 if < gradient threshold and scale down other\n",
    "    # gradients\n",
    "\n",
    "    for y in range(res_rows):\n",
    "        for x in range(res_cols):\n",
    "            gX = grad_arr_x[y][x]\n",
    "            gY = grad_arr_y[y][x]\n",
    "            mag = mags_mat[y][x]\n",
    "            if mag > gradient_threshold: \n",
    "                grad_arr_x[y][x] = gX/mag\n",
    "                grad_arr_y[y][x] = gY/mag\n",
    "            else:\n",
    "                grad_arr_x[y][x] = 0.0\n",
    "                grad_arr_y[y][x] = 0.0\n",
    "\n",
    "    # create a weighted image that has a gausian blur\n",
    "    weight = cv.GaussianBlur(resized, (K_WEIGHT_BLUR_SIZE, K_WEIGHT_BLUR_SIZE), 0, 0)\n",
    "    weight_arr = np.asarray(weight)\n",
    "    weight_rows, weight_cols = np.shape(weight_arr)\n",
    "    # invert the weight matrix\n",
    "    for y in range(weight_rows):\n",
    "        for x in range(weight_cols):\n",
    "            weight_arr[y][x] = 255-weight_arr[y][x]\n",
    "\n",
    "    # create a matrix to store the results from test_possible_centers_formula\n",
    "    out_sum = np.zeros((res_rows, res_cols))\n",
    "    out_sum_rows, out_sum_cols = np.shape(out_sum)\n",
    "\n",
    "    # call test_possible_centers for each point\n",
    "    for y in range(weight_rows):\n",
    "        for x in range(weight_cols):\n",
    "            gX = grad_arr_x[y][x]\n",
    "            gY = grad_arr_y[y][x]\n",
    "            if gX == 0.0 and gY == 0.0:\n",
    "                continue\n",
    "            test_possible_centers_formula(x, y, weight_arr, gX, gY, out_sum)\n",
    "    # average all values in out_sum and convert to float32. assign to 'out' matrix\n",
    "    num_gradients = weight_rows * weight_cols\n",
    "    out = out_sum.astype(np.float32)*(1/num_gradients)\n",
    "    _, max_val, _, max_p = cv.minMaxLoc(out)\n",
    "    print (max_p)\n",
    "    if K_POST_PROCESSING == True:\n",
    "        flood_thresh = max_val * K_THRESHOLD_VALUE \n",
    "        retval, flood_clone = cv.threshold(out, flood_thresh, 0.0, cv.THRESH_TOZERO)\n",
    "        mask = flood_kill_edges(flood_clone)\n",
    "        _, max_val, _, max_p = cv.minMaxLoc(out, mask)\n",
    "        print (max_p)\n",
    "    x, y = unscale_point(max_p, img)\n",
    "    return x,y"
   ]
  },
  {
   "cell_type": "code",
   "execution_count": null,
   "metadata": {},
   "outputs": [],
   "source": [
    "l_center = find_eye_center(l_eye)\n",
    "l_viz = draw_circle(l_eye, l_center[0], l_center[1], 3)\n",
    "\n",
    "cv2mpl(l_viz, cv.COLOR_GRAY2RGB)"
   ]
  },
  {
   "cell_type": "code",
   "execution_count": null,
   "metadata": {},
   "outputs": [],
   "source": [
    "r_center = find_eye_center(r_eye)\n",
    "r_viz = draw_circle(r_eye, r_center[0], r_center[1], 3)\n",
    "\n",
    "cv2mpl(r_viz, cv.COLOR_GRAY2RGB)"
   ]
  },
  {
   "cell_type": "markdown",
   "metadata": {},
   "source": [
    "---\n",
    "\n",
    "**Change PyeLike from above**"
   ]
  },
  {
   "cell_type": "code",
   "execution_count": null,
   "metadata": {
    "collapsed": true
   },
   "outputs": [],
   "source": [
    "# MY GRADIENT FUNCTIONS"
   ]
  },
  {
   "cell_type": "code",
   "execution_count": null,
   "metadata": {
    "collapsed": true
   },
   "outputs": [],
   "source": [
    "def compute_dynamic_threshold_fast(mags_mat, std_dev_factor):\n",
    "    mean_magn_grad, std_magn_grad = cv.meanStdDev(mags_mat)\n",
    "    stddev = std_magn_grad[0] / np.sqrt(mags_mat.size)\n",
    "    return std_dev_factor * stddev + mean_magn_grad[0]"
   ]
  },
  {
   "cell_type": "markdown",
   "metadata": {},
   "source": [
    " "
   ]
  },
  {
   "cell_type": "code",
   "execution_count": null,
   "metadata": {
    "collapsed": true
   },
   "outputs": [],
   "source": [
    "#th2 = cv.adaptiveThreshold(img,255,cv.ADAPTIVE_THRESH_MEAN_C, cv.THRESH_BINARY,11,2)\n",
    "\n",
    "def filter_gradients(gradient, magnitudes, threshold):\n",
    "    threshold_fx = lambda x, mag: x if (mag > threshold) else 0.0\n",
    "    threshold_mask = np.vectorize(threshold_fx)\n",
    "    return threshold_mask(gradient, magnitudes)"
   ]
  },
  {
   "cell_type": "markdown",
   "metadata": {},
   "source": [
    " "
   ]
  },
  {
   "cell_type": "markdown",
   "metadata": {},
   "source": [
    "```\n",
    "def test_possible_centers_formula(x, y, weight, gx, gy, arr):\n",
    "    rows, cols = np.shape(arr)\n",
    "    for cy in range(rows):\n",
    "        for cx in range(cols):\n",
    "            if x == cx and y == cy:\n",
    "                continue\n",
    "            dx = x - cx\n",
    "            dy = y - cy\n",
    "\n",
    "            magnitude = math.sqrt((dx * dx) + (dy * dy))\n",
    "            dx = dx / magnitude\n",
    "            dy = dy / magnitude\n",
    "            dot_product = dx * gx + dy * gy\n",
    "            dot_product = max(0.0, dot_product)\n",
    "            if K_ENABLE_WEIGHT == True:\n",
    "                arr[cy][cx] += dot_product * dot_product * (weight[cy][cx]/K_WEIGHT_DIVISOR)\n",
    "            else:\n",
    "                arr[cy][cx] += dot_product * dot_product\n",
    "    return arr\n",
    "```    "
   ]
  },
  {
   "cell_type": "code",
   "execution_count": null,
   "metadata": {
    "collapsed": true
   },
   "outputs": [],
   "source": []
  },
  {
   "cell_type": "code",
   "execution_count": null,
   "metadata": {
    "collapsed": true
   },
   "outputs": [],
   "source": [
    "def find_eye_center_vector(img):\n",
    "    start = time.time()\n",
    "    \n",
    "    # get row and column lengths\n",
    "    # TO DO\n",
    "    rows, cols = np.asarray(img).shape\n",
    "\n",
    "    # scale down eye image to manageable size\n",
    "    # TO DO\n",
    "    resized = scale_to_fast_size(img)\n",
    "    resized_arr = np.asarray(resized)\n",
    "    res_rows, res_cols = np.shape(resized_arr)\n",
    "\n",
    "    # compute gradients for x and y components of each point\n",
    "    # DONE\n",
    "    grad_arr_x = cv.Sobel(img, cv.CV_64F, 1, 0, ksize=3)\n",
    "    grad_arr_y = cv.Sobel(img, cv.CV_64F, 0, 1, ksize=3)\n",
    "    # create a matrix composed of the magnitudes of the x and y gradients\n",
    "    # DONE\n",
    "    mags_mat = np.sqrt(np.square(grad_arr_x) + np.square(grad_arr_y))\n",
    "\n",
    "    # find a threshold value to get rid gradients that are below gradient threshold\n",
    "    # DONE\n",
    "    gradient_threshold = compute_dynamic_threshold_fast(mags_mat, K_GRADIENT_THRESHOLD)\n",
    "    \n",
    "    \n",
    "    # and now set those gradients to 0 if < gradient threshold and scale down other gradients\n",
    "    # DONEISH\n",
    "    grad_arr_x = filter_gradients(grad_arr_x, mags_mat, gradient_threshold)\n",
    "    grad_arr_y = filter_gradients(grad_arr_y, mags_mat, gradient_threshold)\n",
    "    #ret_thresh_x, grad_arr_x = cv.threshold(grad_arr_x, gradient_threshold, cv.THRESH_TOZERO_INV)\n",
    "    #ret_thresh_y, grad_arr_y = cv.threshold(grad_arr_y, gradient_threshold, cv.THRESH_TOZERO_INV)\n",
    "    \n",
    "\n",
    "    ## DEBUG\n",
    "    cv2mpl(grad_arr_x)\n",
    "    \n",
    "\n",
    "    # create a weighted image that has a gausian blur\n",
    "    # DONE\n",
    "    weight = cv.GaussianBlur(resized, (K_WEIGHT_BLUR_SIZE, K_WEIGHT_BLUR_SIZE), 0, 0)\n",
    "    weight_rows, weight_cols = np.shape(weight)[:2]\n",
    "    \n",
    "    # invert the weight matrix\n",
    "    # DONE\n",
    "    weight_arr = cv.bitwise_not(weight)\n",
    "\n",
    "\n",
    "    # create a matrix to store the results from test_possible_centers_formula\n",
    "    # TO DO\n",
    "    out_sum = np.zeros((res_rows, res_cols))\n",
    "    out_sum_rows, out_sum_cols = np.shape(out_sum)\n",
    "    \n",
    "    test_out_sum = np.sum()\n",
    "\n",
    "    # call test_possible_centers for each point\n",
    "    # TO DO\n",
    "    \n",
    "    for y in range(weight_rows):\n",
    "        for x in range(weight_cols):\n",
    "            gX = grad_arr_x[y][x]\n",
    "            gY = grad_arr_y[y][x]\n",
    "            if gX == 0.0 and gY == 0.0:\n",
    "                continue\n",
    "            test_possible_centers_formula(x, y, weight_arr, gX, gY, out_sum)\n",
    "    \n",
    "    # average all values in out_sum and convert to float32. assign to 'out' matrix\n",
    "    # DONE\n",
    "    num_gradients = weight_arr.size\n",
    "    \n",
    "    # TO DO\n",
    "    out = out_sum.astype(np.float32)*(1/num_gradients)\n",
    "    _, max_val, _, max_p = cv.minMaxLoc(out)\n",
    "    print (max_p)\n",
    "    \n",
    "    # POST PROCESSING\n",
    "    if K_POST_PROCESSING == True:\n",
    "        flood_thresh = max_val * K_THRESHOLD_VALUE \n",
    "        retval, flood_clone = cv.threshold(out, flood_thresh, 0.0, cv.THRESH_TOZERO)\n",
    "        mask = flood_kill_edges(flood_clone)\n",
    "        _, max_val, _, max_p = cv.minMaxLoc(out, mask)\n",
    "        print (max_p)\n",
    "        \n",
    "    # UNSCALE AND RETURN\n",
    "    x, y = unscale_point(max_p, img)\n",
    "    #return x,y\n",
    "    return time.time() - start"
   ]
  },
  {
   "cell_type": "code",
   "execution_count": null,
   "metadata": {},
   "outputs": [],
   "source": [
    "# \n",
    "K_POST_PROCESSING = False\n",
    "\n",
    "rt_center = find_eye_center_vector(r_eye)\n",
    "print(rt_center)\n",
    "#rt_viz = draw_circle(r_eye, rt_center[0], rt_center[1], 3)\n",
    "\n",
    "#cv2mpl(rt_viz, cv.COLOR_GRAY2RGB)"
   ]
  },
  {
   "cell_type": "code",
   "execution_count": null,
   "metadata": {
    "collapsed": true
   },
   "outputs": [],
   "source": [
    "# 0.07416415214538574 # up until loop\n",
    "\n",
    "# 0.09749245643615723 # Commented test_possible centers function\n",
    "\n",
    "# 10.910849332809448  # full thing\n",
    "\n",
    "# 21.645119190216064 # Test class, wrong"
   ]
  },
  {
   "cell_type": "markdown",
   "metadata": {},
   "source": [
    "---\n",
    "\n",
    "#### EyeTab by [errollw on Github](https://github.com/errollw/EyeTab)"
   ]
  },
  {
   "cell_type": "code",
   "execution_count": 14,
   "metadata": {
    "collapsed": true
   },
   "outputs": [],
   "source": [
    "import cv2 as cv\n",
    "import numpy as np\n",
    "\n",
    "from time import time\n",
    "\n",
    "__winname = \"Eye Centre (gradients)\"\n",
    "__debug_imgs = {}\n",
    "\n",
    "__inv_intensity_weight_divisor = 300 #100\n",
    "__fast_width = 50.0 #25.\n",
    "\n",
    "# Algorithm from \"ACCURATE EYE CENTRE LOCALISATION BY MEANS OF GRADIENTS - Fabian Timm and Erhardt Barth\"\n",
    "# Based on C++ code from https://github.com/trishume/eyeLike\n",
    "\n",
    "def test_possible_centers_formula(grad_x0, grad_y0, darkness_weight, grad_x_val, grad_y_val, indicies_grid, shape):\n",
    "    \n",
    "    dx = np.ones(shape) * grad_x0 - indicies_grid[1]\n",
    "    dy = np.ones(shape) * grad_y0 - indicies_grid[0]\n",
    "    magnitudes = cv.magnitude(dx + 0.0001, dy)          # 0.0001 is a hack to offset against division by 0\n",
    "    dx = dx / magnitudes\n",
    "    dy = dy / magnitudes\n",
    "    \n",
    "    diffs = (dx * grad_x_val + dy * grad_y_val) #* darkness_weight\n",
    "    diffs[diffs < 0] = 0   \n",
    "    \n",
    "    return diffs\n",
    "\n",
    "\n",
    "def get_center_map(eye_img_grey):\n",
    "    \n",
    "    # Compute gradients along X, Y axes\n",
    "    grad_x_img = cv.Sobel(eye_img_grey, ddepth=cv.CV_64F, dx=1, dy=0, ksize=3)\n",
    "    grad_y_img = cv.Sobel(eye_img_grey, ddepth=cv.CV_64F, dx=0, dy=1, ksize=3)\n",
    "    \n",
    "    # Compute magnitudes of gradients, and the threshold based of mean + std dev\n",
    "    magnitudes = np.sqrt(grad_x_img ** 2 + grad_y_img ** 2).astype(int)\n",
    "    mag_thresh = int(np.std(magnitudes) / 2 + np.mean(magnitudes))\n",
    "    \n",
    "    # Normalize the gradients based on threshold\n",
    "    grad_x_img = np.divide(grad_x_img, magnitudes + 1)\n",
    "    grad_y_img = np.divide(grad_y_img, magnitudes + 1)\n",
    "    \n",
    "    # Filter out gradients below threshold\n",
    "    grad_x_img[magnitudes < mag_thresh] = 0\n",
    "    grad_y_img[magnitudes < mag_thresh] = 0   \n",
    "    \n",
    "    # Invert image for weighting\n",
    "    #eye_img_inv = 255 - eye_img_grey\n",
    "    weighted_img = cv.GaussianBlur(eye_img_grey, (5, 5), 0, 0)\n",
    "    eye_img_inv = cv.bitwise_not(weighted_img) # no change in accuracy\n",
    "    \n",
    "    # Normalize the weights\n",
    "    darkness_weights = eye_img_inv / __inv_intensity_weight_divisor\n",
    "    \n",
    "    accumulator = np.zeros(eye_img_grey.shape[:2], dtype=np.float32)\n",
    "    indicies_grid = np.indices(accumulator.shape[:2])\n",
    "    indicies_shape = indicies_grid.shape[1:3]\n",
    "    \n",
    "    for y in range(eye_img_grey.shape[0]):\n",
    "        for x in range (eye_img_grey.shape[1]):\n",
    "            if grad_x_img[y][x] == 0 and grad_y_img[y][x] == 0: continue\n",
    "            accumulator += test_possible_centers_formula(x, y,\n",
    "                                                         darkness_weights[y][x],\n",
    "                                                         grad_x_img[y][x], grad_y_img[y][x],\n",
    "                                                         indicies_grid, indicies_shape)\n",
    "    \n",
    "    num_gradients = eye_img_grey.shape[0] * eye_img_grey.shape[1]\n",
    "    return accumulator * (1 / num_gradients)\n",
    "\n",
    "\n",
    "def find_pupil(eye_img_bgr, debug_index=False):\n",
    "    \n",
    "    \"\"\" Estimates the centre of the pupil using image gradients\n",
    "    \"\"\"\n",
    "\n",
    "    #eye_img_r = cv.split(eye_img_bgr)[2]   # Extract red channel only\n",
    "    eye_img_r = eye_img_bgr\n",
    "    \n",
    "    # Scale to small image for faster computation\n",
    "    scale = __fast_width / eye_img_bgr.shape[0]\n",
    "    small_size = (int((__fast_width / eye_img_bgr.shape[0]) * eye_img_bgr.shape[1]), int(__fast_width))\n",
    "    eye_img_small = cv.resize(eye_img_r, small_size)\n",
    "    \n",
    "    center_map = get_center_map(eye_img_small)\n",
    "    \n",
    "    max_val_index = np.argmax(center_map)\n",
    "    pupil_y0, pupil_x0 = max_val_index // center_map.shape[1], max_val_index % center_map.shape[1]\n",
    "    \n",
    "    # Scale back to original coordinates\n",
    "    pupil_y0, pupil_x0 = int((pupil_y0 + 0.5) / scale), int((pupil_x0 + 0.5) / scale)\n",
    "    return pupil_x0, pupil_y0\n",
    "\n",
    "def find_pupil_noscale(eye_img_bgr, debug_index=False):\n",
    "    \n",
    "    \"\"\" Estimates the centre of the pupil using image gradients\n",
    "    \"\"\"\n",
    "\n",
    "    #eye_img_r = cv.split(eye_img_bgr)[2]   # Extract red channel only\n",
    "    eye_img_r = eye_img_bgr\n",
    "    \n",
    "    # Scale to small image for faster computation\n",
    "    #scale = __fast_width / eye_img_bgr.shape[0]\n",
    "    #small_size = (int((__fast_width / eye_img_bgr.shape[0]) * eye_img_bgr.shape[1]), int(__fast_width))\n",
    "    #eye_img_small = cv.resize(eye_img_r, small_size)\n",
    "    \n",
    "    center_map = get_center_map(eye_img_r.copy())\n",
    "    \n",
    "    max_val_index = np.argmax(center_map)\n",
    "    pupil_y0, pupil_x0 = max_val_index // center_map.shape[1], max_val_index % center_map.shape[1]\n",
    "    \n",
    "    # Scale back to original coordinates\n",
    "    #pupil_y0, pupil_x0 = int((pupil_y0 + 0.5) / scale), int((pupil_x0 + 0.5) / scale)\n",
    "    return pupil_x0, pupil_y0"
   ]
  },
  {
   "cell_type": "code",
   "execution_count": null,
   "metadata": {
    "collapsed": true
   },
   "outputs": [],
   "source": []
  }
 ],
 "metadata": {
  "kernelspec": {
   "display_name": "Python 3",
   "language": "python",
   "name": "python3"
  },
  "language_info": {
   "codemirror_mode": {
    "name": "ipython",
    "version": 3
   },
   "file_extension": ".py",
   "mimetype": "text/x-python",
   "name": "python",
   "nbconvert_exporter": "python",
   "pygments_lexer": "ipython3",
   "version": "3.6.3"
  }
 },
 "nbformat": 4,
 "nbformat_minor": 2
}
