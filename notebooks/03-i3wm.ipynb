{
 "cells": [
  {
   "cell_type": "markdown",
   "metadata": {},
   "source": [
    "# `i3wm`"
   ]
  },
  {
   "cell_type": "code",
   "execution_count": 1,
   "metadata": {},
   "outputs": [
    {
     "name": "stdout",
     "output_type": "stream",
     "text": [
      "Focused window 03-i3wm - Jupyter Notebook - Google Chrome is on workspace 2\n"
     ]
    }
   ],
   "source": [
    "from subprocess import check_output\n",
    "import i3ipc\n",
    "i3 = i3ipc.Connection()\n",
    "\n",
    "# Print the name of the focused window\n",
    "focused = i3.get_tree().find_focused()\n",
    "print('Focused window %s is on workspace %s' %\n",
    "      (focused.name, focused.workspace().name))"
   ]
  },
  {
   "cell_type": "code",
   "execution_count": 2,
   "metadata": {
    "code_folding": [
     0,
     7
    ]
   },
   "outputs": [],
   "source": [
    "def window_is_visible(w):\n",
    "    try:\n",
    "        xprop = check_output(['xprop', '-id', str(w.window)]).decode()\n",
    "    except FileNotFoundError:\n",
    "        raise SystemExit(\"The `xprop` utility is not found!\" \" Please install it and retry.\")\n",
    "    return '_NET_WM_STATE_HIDDEN' not in xprop\n",
    "\n",
    "def get_ws_windows(conn):\n",
    "    \"\"\" Returns a list of windows from the currently focused workspace. \"\"\"\n",
    "    tree = conn.get_tree()\n",
    "    ws_windows = tree.find_focused().workspace().leaves()\n",
    "    ws_visible_windows = list(filter(window_is_visible, ws_windows))\n",
    "    return ws_visible_windows  "
   ]
  },
  {
   "cell_type": "code",
   "execution_count": 3,
   "metadata": {},
   "outputs": [
    {
     "name": "stdout",
     "output_type": "stream",
     "text": [
      "[94648427380528, 94648427255968]\n"
     ]
    }
   ],
   "source": [
    "test_win = get_ws_windows(i3)\n",
    "print([w.id for w in test_win])"
   ]
  },
  {
   "cell_type": "code",
   "execution_count": 20,
   "metadata": {
    "code_folding": []
   },
   "outputs": [
    {
     "data": {
      "text/plain": [
       "(1280, 800)"
      ]
     },
     "execution_count": 20,
     "metadata": {},
     "output_type": "execute_result"
    }
   ],
   "source": [
    "# Dimensions\n",
    "def get_ws_dimensions(x, y, conn):\n",
    "    width, height = None, None\n",
    "    \n",
    "    for output in i3.get_outputs():\n",
    "        if output['active']:\n",
    "            width = output['rect']['width']\n",
    "            height = output['rect']['height']\n",
    "            break\n",
    "    \n",
    "    assert width and height\n",
    "    assert (0 <= x <= width) and (0 <= y <= height)\n",
    "    return (width, height)\n",
    "\n",
    "get_ws_dimensions(0, 0, i3)"
   ]
  },
  {
   "cell_type": "code",
   "execution_count": 5,
   "metadata": {
    "code_folding": [
     1
    ]
   },
   "outputs": [],
   "source": [
    "# Bounding boxes\n",
    "def get_win_boxes(windows):\n",
    "    win_info = []\n",
    "    for w in windows:\n",
    "        w_info = {\n",
    "            'id': w.id,\n",
    "            'x': w.rect.x,\n",
    "            'y': w.rect.y,\n",
    "            'width': w.rect.width,\n",
    "            'height': w.rect.height,\n",
    "            'cx': w.rect.x + (w.rect.width // 2),\n",
    "            'cy': w.rect.y + (w.rect.height // 2),\n",
    "            'name': w.name,\n",
    "            'floating': w.floating.endswith('on')\n",
    "        }\n",
    "        win_info.append(w_info)\n",
    "        \n",
    "    # sort floating first\n",
    "    \n",
    "    # \n",
    "    \n",
    "    return win_info"
   ]
  },
  {
   "cell_type": "code",
   "execution_count": 6,
   "metadata": {},
   "outputs": [
    {
     "data": {
      "text/plain": [
       "[{'id': 94648427380528,\n",
       "  'x': 0,\n",
       "  'y': 29,\n",
       "  'width': 1280,\n",
       "  'height': 771,\n",
       "  'cx': 640,\n",
       "  'cy': 414,\n",
       "  'name': '03-i3wm - Jupyter Notebook - Google Chrome',\n",
       "  'floating': False},\n",
       " {'id': 94648427255968,\n",
       "  'x': 109,\n",
       "  'y': 133,\n",
       "  'width': 1123,\n",
       "  'height': 538,\n",
       "  'cx': 670,\n",
       "  'cy': 402,\n",
       "  'name': 'tmux',\n",
       "  'floating': True}]"
      ]
     },
     "execution_count": 6,
     "metadata": {},
     "output_type": "execute_result"
    }
   ],
   "source": [
    "get_win_boxes(test_win)"
   ]
  },
  {
   "cell_type": "code",
   "execution_count": 7,
   "metadata": {},
   "outputs": [
    {
     "data": {
      "text/plain": [
       "[{'id': 94648427461952,\n",
       "  'x': 2,\n",
       "  'y': 31,\n",
       "  'width': 1276,\n",
       "  'height': 767,\n",
       "  'cx': 640,\n",
       "  'cy': 414,\n",
       "  'name': 'pysight - Visual Studio Code',\n",
       "  'floating': False},\n",
       " {'id': 94648427380528,\n",
       "  'x': 0,\n",
       "  'y': 29,\n",
       "  'width': 1280,\n",
       "  'height': 771,\n",
       "  'cx': 640,\n",
       "  'cy': 414,\n",
       "  'name': '03-i3wm - Jupyter Notebook - Google Chrome',\n",
       "  'floating': False},\n",
       " {'id': 94648427394704,\n",
       "  'x': 2,\n",
       "  'y': 31,\n",
       "  'width': 1276,\n",
       "  'height': 767,\n",
       "  'cx': 640,\n",
       "  'cy': 414,\n",
       "  'name': '/home/user/develop/working/computervision/pysight/notebooks/combining-headpose-eye-location-for-gaze-estimation.pdf',\n",
       "  'floating': False},\n",
       " {'id': 94648427255968,\n",
       "  'x': 109,\n",
       "  'y': 133,\n",
       "  'width': 1123,\n",
       "  'height': 538,\n",
       "  'cx': 670,\n",
       "  'cy': 402,\n",
       "  'name': 'tmux',\n",
       "  'floating': True}]"
      ]
     },
     "execution_count": 7,
     "metadata": {},
     "output_type": "execute_result"
    }
   ],
   "source": [
    "get_win_boxes(i3.get_tree().leaves())"
   ]
  },
  {
   "cell_type": "code",
   "execution_count": 8,
   "metadata": {
    "code_folding": [
     1
    ]
   },
   "outputs": [],
   "source": [
    "# Intersection function\n",
    "def get_intersecting_windows(x, y, windows):\n",
    "    intersections = []\n",
    "    for w in windows:\n",
    "        if (w['x'] <= x <= (w['x'] + w['width']) and\n",
    "            w['y'] <= y <= (w['y'] + w['height'])):\n",
    "                intersections.append(w)\n",
    "    return intersections"
   ]
  },
  {
   "cell_type": "code",
   "execution_count": 14,
   "metadata": {
    "code_folding": [
     3,
     9
    ]
   },
   "outputs": [],
   "source": [
    "# Distance function\n",
    "from math import sqrt\n",
    "\n",
    "def distance_to_query(x, y, window):\n",
    "    dx   = abs(window['cx'] - x) ** 2\n",
    "    dy   = abs(window['cy'] - y) ** 2\n",
    "    dist = int(sqrt(dx + dy))\n",
    "    return dist\n",
    "\n",
    "def get_closest_window(x, y, windows):\n",
    "    if len(windows) == 0:\n",
    "        raise Exception('No windows given')\n",
    "        \n",
    "    elif len(windows) == 1:\n",
    "        return windows[0]\n",
    "    \n",
    "    else:  \n",
    "        closest_so_far, dist = None, float('inf')\n",
    "\n",
    "        for w in windows:\n",
    "            w_dist = distance_to_query(x, y, w)\n",
    "            if w_dist <= dist:\n",
    "                closest_so_far = w\n",
    "                dist = w_dist\n",
    "\n",
    "        return closest_so_far"
   ]
  },
  {
   "cell_type": "code",
   "execution_count": 10,
   "metadata": {},
   "outputs": [],
   "source": [
    "# rtree?"
   ]
  },
  {
   "cell_type": "code",
   "execution_count": 11,
   "metadata": {},
   "outputs": [],
   "source": [
    "# scipy Voronoi?"
   ]
  },
  {
   "cell_type": "code",
   "execution_count": null,
   "metadata": {},
   "outputs": [],
   "source": []
  },
  {
   "cell_type": "markdown",
   "metadata": {},
   "source": [
    "### Algorithm\n",
    "\n",
    "Definitions:\n",
    "\n",
    "- X<sub>query</sub>, Y<sub>query</sub>\n",
    "- Width<sub>screen</sub>, Height<sub>screen</sub>\n",
    "\n",
    "\n",
    "Steps:\n",
    "\n",
    "1. Get dimensions of currently focused I3 output\n",
    "2. Check x, y is within dimensions. If not raise error/return\n",
    "3. Get windows of current output workspace\n",
    "4. Filter non-visible windows (and currently focused window???)\n",
    "5. Extract information from windows\n",
    "6. Return windows that contain `X, Y`\n",
    "7. Return id of window who's center is closest to Query.\n",
    "\n",
    "\n",
    "Extra:\n",
    "1. Build spatial index to ease the intersection\n",
    "2. "
   ]
  },
  {
   "cell_type": "code",
   "execution_count": 21,
   "metadata": {},
   "outputs": [],
   "source": [
    "def main(x, y):\n",
    "    i3                   = i3ipc.Connection()\n",
    "    width, height        = get_ws_dimensions(x, y, i3)\n",
    "    windows              = get_ws_windows(i3)\n",
    "    window_info          = get_win_boxes(windows)\n",
    "    window_intersections = get_intersecting_windows(x, y, window_info)\n",
    "    closest_window       = get_closest_window(x, y, window_intersections)\n",
    "    return closest_window"
   ]
  },
  {
   "cell_type": "code",
   "execution_count": 24,
   "metadata": {},
   "outputs": [
    {
     "data": {
      "text/plain": [
       "{'id': 94648427380528,\n",
       " 'x': 0,\n",
       " 'y': 29,\n",
       " 'width': 1280,\n",
       " 'height': 771,\n",
       " 'cx': 640,\n",
       " 'cy': 414,\n",
       " 'name': '03-i3wm - Jupyter Notebook - Google Chrome',\n",
       " 'floating': False}"
      ]
     },
     "execution_count": 24,
     "metadata": {},
     "output_type": "execute_result"
    }
   ],
   "source": [
    "main(300, 300)"
   ]
  },
  {
   "cell_type": "code",
   "execution_count": null,
   "metadata": {},
   "outputs": [],
   "source": []
  }
 ],
 "metadata": {
  "kernelspec": {
   "display_name": "Python 3",
   "language": "python",
   "name": "python3"
  },
  "language_info": {
   "codemirror_mode": {
    "name": "ipython",
    "version": 3
   },
   "file_extension": ".py",
   "mimetype": "text/x-python",
   "name": "python",
   "nbconvert_exporter": "python",
   "pygments_lexer": "ipython3",
   "version": "3.7.3"
  },
  "varInspector": {
   "cols": {
    "lenName": 16,
    "lenType": 16,
    "lenVar": 40
   },
   "kernels_config": {
    "python": {
     "delete_cmd_postfix": "",
     "delete_cmd_prefix": "del ",
     "library": "var_list.py",
     "varRefreshCmd": "print(var_dic_list())"
    },
    "r": {
     "delete_cmd_postfix": ") ",
     "delete_cmd_prefix": "rm(",
     "library": "var_list.r",
     "varRefreshCmd": "cat(var_dic_list()) "
    }
   },
   "types_to_exclude": [
    "module",
    "function",
    "builtin_function_or_method",
    "instance",
    "_Feature"
   ],
   "window_display": false
  }
 },
 "nbformat": 4,
 "nbformat_minor": 2
}
